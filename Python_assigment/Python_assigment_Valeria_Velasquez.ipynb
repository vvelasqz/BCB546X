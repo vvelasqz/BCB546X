{
 "cells": [
  {
   "cell_type": "markdown",
   "metadata": {
    "collapsed": true
   },
   "source": [
    "## Python assigment\n",
    "### Valeria Velasquez Zapata\n",
    "\n",
    "This assigment contains all the code and results from the Python assigment fot the BCB546X course spring 2017 \n",
    "Iowa State University"
   ]
  },
  {
   "cell_type": "code",
   "execution_count": 1,
   "metadata": {
    "collapsed": true
   },
   "outputs": [],
   "source": [
    "from Bio import SeqIO\n",
    "from Bio.Data import CodonTable\n",
    "import pandas as pd"
   ]
  },
  {
   "cell_type": "markdown",
   "metadata": {},
   "source": [
    "### The first function is called get_sequences_from_file, and uses as parameters a fasta_fn that represents a fasta file.\n",
    "\n",
    "* For that purpose, an empty dictionary is created and called sequence_data_dict\n",
    "\n",
    "* After the dictionary is created, it will be filled with the information from the fasta file, by using a for loop and the SeqIO.parse function\n",
    "\n",
    "* The SeqIO.parse function takes an input file with a type (fasta), and returns an iterator giving SeqRecord objects \n",
    "\n",
    "* Then, for each record after parsing the file, we take its description (by calling the split function) and build the species_name list as the elements of the description separated by a space. \n",
    "\n",
    "* We also take the sequence of each record and named as the sequence_data_dict[species_name] of the dictionary\n",
    "\n",
    "* Finally, we return the dictionary \n",
    "\n",
    "#### References\n",
    "http://biopython.org/wiki/SeqIO\n",
    "\n",
    "http://biopython.org/DIST/docs/api/Bio.SeqIO-module.html"
   ]
  },
  {
   "cell_type": "code",
   "execution_count": 2,
   "metadata": {
    "collapsed": true
   },
   "outputs": [],
   "source": [
    "def get_sequences_from_file(fasta_fn):\n",
    "    #we create an empty dictionary\n",
    "    sequence_data_dict = {}\n",
    "    #we create a for loop to iterate thorugh the fasta file and call the SeqIO.parse function to get a record and a description\n",
    "    for record in SeqIO.parse(fasta_fn, \"fasta\"):\n",
    "        description = record.description.split()\n",
    "        species_name = description[1] + \" \" + description[2] # the name is created with the second and third elements of the description\n",
    "        sequence_data_dict[species_name] = record.seq #we store the values and the keys of the dictionary using the record and the species names\n",
    "    return(sequence_data_dict)"
   ]
  },
  {
   "cell_type": "markdown",
   "metadata": {},
   "source": [
    "### Translate function\n",
    "\n",
    "* First we use the Codon table from the NCBI, using the vertebrate mitochondrial code. We can test what it prints by\n"
   ]
  },
  {
   "cell_type": "code",
   "execution_count": 3,
   "metadata": {
    "collapsed": false
   },
   "outputs": [
    {
     "name": "stdout",
     "output_type": "stream",
     "text": [
      "Table 2 Vertebrate Mitochondrial, SGC1\n",
      "\n",
      "  |  T      |  C      |  A      |  G      |\n",
      "--+---------+---------+---------+---------+--\n",
      "T | TTT F   | TCT S   | TAT Y   | TGT C   | T\n",
      "T | TTC F   | TCC S   | TAC Y   | TGC C   | C\n",
      "T | TTA L   | TCA S   | TAA Stop| TGA W   | A\n",
      "T | TTG L   | TCG S   | TAG Stop| TGG W   | G\n",
      "--+---------+---------+---------+---------+--\n",
      "C | CTT L   | CCT P   | CAT H   | CGT R   | T\n",
      "C | CTC L   | CCC P   | CAC H   | CGC R   | C\n",
      "C | CTA L   | CCA P   | CAA Q   | CGA R   | A\n",
      "C | CTG L   | CCG P   | CAG Q   | CGG R   | G\n",
      "--+---------+---------+---------+---------+--\n",
      "A | ATT I(s)| ACT T   | AAT N   | AGT S   | T\n",
      "A | ATC I(s)| ACC T   | AAC N   | AGC S   | C\n",
      "A | ATA M(s)| ACA T   | AAA K   | AGA Stop| A\n",
      "A | ATG M(s)| ACG T   | AAG K   | AGG Stop| G\n",
      "--+---------+---------+---------+---------+--\n",
      "G | GTT V   | GCT A   | GAT D   | GGT G   | T\n",
      "G | GTC V   | GCC A   | GAC D   | GGC G   | C\n",
      "G | GTA V   | GCA A   | GAA E   | GGA G   | A\n",
      "G | GTG V(s)| GCG A   | GAG E   | GGG G   | G\n",
      "--+---------+---------+---------+---------+--\n"
     ]
    }
   ],
   "source": [
    "mito_table = CodonTable.unambiguous_dna_by_name[\"Vertebrate Mitochondrial\"]\n",
    "print(mito_table)"
   ]
  },
  {
   "cell_type": "markdown",
   "metadata": {},
   "source": [
    "* After confirming the contents it is possible to create an empty string to store the aminoacid sequence\n",
    "\n",
    "* Then, we build a for loop to iterate through the nucleotide string  every 3 characters \n",
    "\n",
    "* We call the codon as the string of each i, i+1 and i+2 charaters in string_nucleotides and aminoacid as the translation for each codon according to mito_table\n",
    "\n",
    "* Before adding the aminoacid to the aa_seq_string we test if it is an Stop codon and if so, we break the loop in order to avoid that the sequence be translated beyond that codon\n",
    "\n",
    "* Finally we return the aa_seq_string"
   ]
  },
  {
   "cell_type": "code",
   "execution_count": 4,
   "metadata": {
    "collapsed": false
   },
   "outputs": [],
   "source": [
    "def translate_function(string_nucleotides): \n",
    "    mito_table = CodonTable.unambiguous_dna_by_name[\"Vertebrate Mitochondrial\"] # this should work using BioPython (be sure to check what this returns)\n",
    "    aa_seq_string =\"\"\n",
    "    for i in range(0, len(string_nucleotides), 3):  # for-loop through every 3rd position in string_nucleotides to get the codon using range subsets\n",
    "        codon = string_nucleotides[i:i+3]\n",
    "        if codon in mito_table.stop_codons:\n",
    "            break        # IMPORTANT: if the sequence has a stop codon at the end, you should leave it off    \n",
    "        aminoacid = mito_table.forward_table[codon] # this is how you can retrieve the amino acid\n",
    "        aa_seq_string += aminoacid # add the aa to aa_seq_string\n",
    "    return(aa_seq_string)"
   ]
  },
  {
   "cell_type": "markdown",
   "metadata": {},
   "source": [
    "### My alternative translate function\n",
    "\n",
    "We can use the translate function from biopython to achieve this part of the assigment, just as this page explains:\n",
    "\n",
    "http://biopython.org/DIST/docs/tutorial/Tutorial.html#htoc25\n",
    "\n",
    "* The output of the translate function is a tuple with the translated string, so we can extract that information in the aa_seq_string"
   ]
  },
  {
   "cell_type": "code",
   "execution_count": 5,
   "metadata": {
    "collapsed": false
   },
   "outputs": [],
   "source": [
    "from Bio.Seq import Seq\n",
    "def my_translate_function(string_nucleotides): \n",
    "    #coding_dna = Seq(string_nucleotides) # we define a Seq using a string as an input and the IUPAC.unambigous_dna label\n",
    "    result = string_nucleotides.translate(table=\"Vertebrate Mitochondrial\", to_stop=True) # we call the translate function on the sequence\n",
    "    aa_seq_string = str(result) # we pass the result of the trslation to a string\n",
    "    return(aa_seq_string) # we return the string"
   ]
  },
  {
   "cell_type": "markdown",
   "metadata": {},
   "source": [
    "### My count aa function\n",
    "\n",
    "This function takes an amonoacid sequence aa_seq as Bio Seq or as String and calculates the proportion of each aminoacis type (charged, polar or hydrophobic)\n",
    "\n",
    "* For achieving that we first define the vectors with the entries for each type and initialize the counting for storing the numbers for our sequence of interest\n",
    "\n",
    "* After that we build a for loop that iterates through the entire sequence and with an if statement we test if each aminoacid matches with any of the cathegories, increasing the counter accordingly\n",
    "\n",
    "* Finally we build a vector to store the portportion result calculated as the rate between the counter and the size of the sequence (we assume it does not have an stop codon included in the string)\n"
   ]
  },
  {
   "cell_type": "code",
   "execution_count": 6,
   "metadata": {
    "collapsed": true
   },
   "outputs": [],
   "source": [
    "def get_proportion_aa(aa_seq):\n",
    "    #we create a vector that contains the charged, polar and hydrophobic aminoacids\n",
    "    charged = ['R','K','D','E'] \n",
    "    polar = ['Q','N','H','S','T','Y','C','M','W']\n",
    "    hydrophobic = ['A','I','L','F','V','P','G']\n",
    "    #we create a counter that stores the number of the charged, polar and hydrophobic aminoacids in our sequence of interest\n",
    "    charged_count=0\n",
    "    polar_count=0\n",
    "    hydrophobic_count=0\n",
    "    #we create a for loof to iterate through our sequence of interest and test with an if statement the aminoacid type, \n",
    "    #increasing the counter accordingly\n",
    "    for aa in str(aa_seq):\n",
    "        if aa in charged:\n",
    "            charged_count += 1\n",
    "        elif aa in polar:\n",
    "            polar_count += 1\n",
    "        elif aa in hydrophobic:\n",
    "            hydrophobic_count += 1\n",
    "    #we create a vector to store the results, calculated as the ration between each counter and the sequence size\n",
    "    result = [charged_count/len(aa_seq), polar_count/len(aa_seq), hydrophobic_count/len(aa_seq)]\n",
    "    return result\n"
   ]
  },
  {
   "cell_type": "markdown",
   "metadata": {},
   "source": [
    "### Main function\n",
    "\n",
    "After opening the bears_data.csv file and store it as a list we should write a for-loop that translates each sequence and also gets the proportion of each aa type in that translated sequence and adds those data to dataframe, using the previous functions\n",
    "\n",
    "* Here we can choose between each of the two translating functions and then we call the get_proportion_fucntion on each value on the dictionary\n",
    "\n",
    "* After that we can add thse values, using loc for setting each proportion, matching the species column in the dataframe with the key, and the respective column for the aminoacid type"
   ]
  },
  {
   "cell_type": "code",
   "execution_count": 41,
   "metadata": {
    "collapsed": false
   },
   "outputs": [],
   "source": [
    "cytb_seqs = get_sequences_from_file(\"bears_cytb.fasta\") \n",
    "bear_df = pd.read_csv(\"bears_data.csv\") # Includes only data for body mass currently and empty cells for other columns\n",
    "species_list = list(bear_df.species)\n",
    "\n",
    "for key, value in cytb_seqs.items():\n",
    "    #aa_seq =translate_function(str(value)) # whichever function you prefer of #2 \n",
    "    aa_seq = my_translate_function(value)   # or #3\n",
    "    proportion = get_proportion_aa(aa_seq) # get proportions of each aa type\n",
    "    bear_df.loc[bear_df.species==key, 'charged'] = proportion[0]\n",
    "    bear_df.loc[bear_df.species==key, 'polar'] = proportion[1]\n",
    "    bear_df.loc[bear_df.species==key, 'hydrophobic'] = proportion[2] # set the values of each proportion in the dataframe (i.e., fill in empty cells in DF)"
   ]
  },
  {
   "cell_type": "markdown",
   "metadata": {},
   "source": [
    "To verify the functioning of this function we can print the dataframe"
   ]
  },
  {
   "cell_type": "code",
   "execution_count": 8,
   "metadata": {
    "collapsed": false
   },
   "outputs": [
    {
     "name": "stdout",
     "output_type": "stream",
     "text": [
      "                  species     mass   charged     polar  hydrophobic\n",
      "0          Ursus spelaeus  550.800  0.092348  0.329815     0.577836\n",
      "1            Ursus arctos  203.500  0.092348  0.324538     0.583113\n",
      "2        Ursus thibetanus   99.714  0.092348  0.327177     0.580475\n",
      "3        Melursus ursinus  100.030  0.089710  0.340369     0.569921\n",
      "4        Ursus americanus  110.560  0.089710  0.337731     0.572559\n",
      "5     Helarctos malayanus   47.020  0.092348  0.340369     0.567282\n",
      "6  Ailuropoda melanoleuca  118.200  0.089710  0.343008     0.567282\n",
      "7      Tremarctos ornatus  140.700  0.089710  0.335092     0.575198\n",
      "8         Ursus maritimus  425.100  0.092348  0.327177     0.580475\n"
     ]
    }
   ],
   "source": [
    "print(bear_df)"
   ]
  },
  {
   "cell_type": "code",
   "execution_count": 9,
   "metadata": {
    "collapsed": false
   },
   "outputs": [],
   "source": [
    "%matplotlib inline"
   ]
  },
  {
   "cell_type": "markdown",
   "metadata": {},
   "source": [
    "### Plot a bar-chart of the mass with the x-axes labeled with species names.\n",
    "\n",
    "We can use the seaborn library to do this plot\n",
    "\n",
    "* First, we import the library and then we create the plot as a barplot with the required arguments (species and mass)\n",
    "\n",
    "* To give it a better format we can rotate the labels for each specie name and then avoid overlaying. For that purpose we call the set.xthicklables, and define the labels as the species names, a rotation of 30 degrees, and aligned to the right\n",
    "\n",
    "#### References\n",
    "\n",
    "http://seaborn.pydata.org/generated/seaborn.barplot.html\n",
    "\n",
    "http://stackoverflow.com/questions/26540035/rotate-label-text-in-seaborn-factorplot"
   ]
  },
  {
   "cell_type": "code",
   "execution_count": 10,
   "metadata": {
    "collapsed": false
   },
   "outputs": [
    {
     "data": {
      "text/plain": [
       "[<matplotlib.text.Text at 0xa6dccf8>,\n",
       " <matplotlib.text.Text at 0xa6dcef0>,\n",
       " <matplotlib.text.Text at 0xa760828>,\n",
       " <matplotlib.text.Text at 0xa769320>,\n",
       " <matplotlib.text.Text at 0xa769dd8>,\n",
       " <matplotlib.text.Text at 0xa76f8d0>,\n",
       " <matplotlib.text.Text at 0xa7743c8>,\n",
       " <matplotlib.text.Text at 0xa774e80>,\n",
       " <matplotlib.text.Text at 0xa77a978>]"
      ]
     },
     "execution_count": 10,
     "metadata": {},
     "output_type": "execute_result"
    },
    {
     "data": {
      "image/png": "[encoded data removed]",
      "text/plain": [
       "<matplotlib.figure.Figure at 0x9936320>"
      ]
     },
     "metadata": {},
     "output_type": "display_data"
    }
   ],
   "source": [
    "import seaborn as sns\n",
    "bar_chart = sns.barplot(x = 'species', y = 'mass', data=bear_df) #we create the plot\n",
    "bar_chart.set_xticklabels(labels = bear_df.species, rotation=30, horizontalalignment='right') # formatting the labels"
   ]
  },
  {
   "cell_type": "markdown",
   "metadata": {
    "collapsed": true
   },
   "source": [
    "Looking at this plot we can see that the largest mass is associated with *Ursus spelaeus*, followed by *Ursus maritimus*. *Ursus spelaeus* represents one extinct species of bear from the pleistocene period. After checking the gene sequence, there is no a big difference with the other species, then, the large size of the cytb protein for this specie should be explaind if this is associated with other subunits. Apparently, the mass and also the composition of cytb can be an interesting feature for undersanding the evolution of this gene in the lineage."
   ]
  },
  {
   "cell_type": "markdown",
   "metadata": {
    "collapsed": false
   },
   "source": [
    "### Plot a visualization of the proportions for amino-acid type for the bear species\n",
    "\n",
    "For making this plot we can use a stacked barplot. While looking for library options for achieving this, I found the matplotlib\n",
    "\n",
    "* First, we should import the library and numpy for making the arange function to indicate the axis partition \n",
    "\n",
    "* Then, we can create an instance of the index for the x-axis, by calling the arange function for the lenght of the dataframe\n",
    "\n",
    "* After this, we create the plot, by adding each component of the aminoacid proportion to it (i.e charged, polar and hydrophobic). By calling bottom we are indicating that the plot is stacked\n",
    "\n",
    "* Finally we give the labels for the features in the plot: x and y labels, xticks to indicate the labels for each specie, with a rotation of 30 degrees and aligned to the right, and the legend for each aminoacid type, located at the outside of the plot\n",
    "\n",
    "#### References\n",
    "http://matplotlib.org/examples/pylab_examples/bar_stacked.html\n",
    "\n",
    "http://stackoverflow.com/questions/4700614/how-to-put-the-legend-out-of-the-plot\n"
   ]
  },
  {
   "cell_type": "code",
   "execution_count": 11,
   "metadata": {
    "collapsed": false
   },
   "outputs": [
    {
     "data": {
      "image/png": "[encoded data removed]",
      "text/plain": [
       "<matplotlib.figure.Figure at 0xa7a97b8>"
      ]
     },
     "metadata": {},
     "output_type": "display_data"
    }
   ],
   "source": [
    "# a stacked bar plot\n",
    "import numpy as np\n",
    "import matplotlib.pyplot as plt\n",
    "#we create the plots, indicating that it is a stacked by using bottom\n",
    "ind = np.arange(len(bear_df))\n",
    "p1= plt.bar(ind, bear_df.charged)\n",
    "p2= plt.bar(ind, bear_df.polar, bottom = bear_df.charged)\n",
    "p3= plt.bar(ind, bear_df.hydrophobic, bottom = bear_df.charged + bear_df.polar)\n",
    "#we format the plot labels and legends\n",
    "plt.ylabel('Aminoacid Proportion')\n",
    "plt.xlabel('Specie')\n",
    "plt.xticks(ind, bear_df.species, rotation=30, horizontalalignment='right')\n",
    "plt.yticks(np.arange(0, 1.1, 0.1))\n",
    "plt.legend((p1[0], p2[0], p3[0]), ('Charged', 'Polar', 'Hydrophobic'), bbox_to_anchor=(1.01, 1.01))\n",
    "\n",
    "plt.show()"
   ]
  },
  {
   "cell_type": "markdown",
   "metadata": {},
   "source": [
    "After creating this plot we can see that the proportion of aminoacids are almost identical for all the species, which indicates that this protein is highly conserved. This can mean that is under a high negative selection, so changes to these proportions can alter severely its function. All these can be explained if we take into account that cit B protein is a membrane protein, so this type of aminoacids are involved in its correct folding and anchoring to the membrane: \n",
    "\n",
    "* For example, the hidrophobic aminoacids will help the protein to interact with the phosoholipids in the membrane\n",
    "* The polar aminoacids will face the aqueous environment \n",
    "* The charged aminoacids are likely involved in the electron-transport function of this protein in the respitatory chain"
   ]
  },
  {
   "cell_type": "markdown",
   "metadata": {},
   "source": [
    "### Save the new dataframe to a file called \"bears_mass_cytb.csv\"\n",
    "\n",
    "We can save the dataframe to a file by using the to_csv funtcion\n"
   ]
  },
  {
   "cell_type": "code",
   "execution_count": 12,
   "metadata": {
    "collapsed": true
   },
   "outputs": [],
   "source": [
    "bear_df.to_csv('bears_mass_cytb.csv')"
   ]
  },
  {
   "cell_type": "markdown",
   "metadata": {},
   "source": [
    "### Bonus\n",
    "\n",
    "We will print the aminoacids sequences and their lengths for each specie, and then we will compute the number of matches for each amoniacid type according to a reference (for this example we will use *Ursus americanus*) and then we will plot each cathegory  \n",
    "\n",
    "* First, we create a function to count each match between the reference and all the species, taking into account the aminoacid types and the mismatches. This function depends of the sequence of aminoacids of the sequence of interest and from the reference\n",
    "\n",
    "* To iterate over each aminoacid in the reference sequence we create a counter i to access the data, and we increase it at the end of each iteration\n",
    "\n",
    "* Then, we create a for loop to access the dictionary with all the sequences and we call the counting_type_reference function, storing the data in new colums in the dataframe"
   ]
  },
  {
   "cell_type": "code",
   "execution_count": 42,
   "metadata": {
    "collapsed": false
   },
   "outputs": [
    {
     "name": "stdout",
     "output_type": "stream",
     "text": [
      "Ursus spelaeus\n",
      "MTNIRKTHPLAKIINNSFIDLPTPSNISAWWNFGSLLGVCLILQILTGLFLAMHYTSDTTTAFSSITHICRDVHYGWVIRYMHANGASMFFICLFMHVGRGLYYGSYLFSETWNIGIILLLTVMATAFMGYVLPWGQMSFWGATVITNLLSAIPYIGTDLVEWIWGGFSVDKATLTRFFAFHFILPFIILALAAVHLLFLHETGSNNPSGIPSDSDKIPFHPYYTIKDILGALLLTLALAALVLFSPDLLGDPDNYTPANPLSTPPHIKPEWYFLFAYAILRFIPNKLGGVLALIFSILILAIISLLHTSKQRGMMFRPLSQCLFWLLVADLLTLTWIGGQPVEHPFIIIGQLASILYFTIPLVLMPIAGIIENNLLKW\n",
      "379\n",
      "Ursus arctos\n",
      "MTNIRKTHPLAKIINNSLIDLPTPSNISAWWNFGSLLGVCLILQILTGLFLAMHYTPDTTTAFSSVTHICRDVHYGWVIRYVHANGASIFFICLFMHVGRGLYYGSYLFSETWNIGIILLFTIMATAFMGYVLPWGQMSFWGATVITNLLSAIPYIGTDLVEWIWGGFSVDKATLTRFFAFHFILPFIILALAAVHLLFLHETGSNNPSGIPSDSDKIPFHPYYTIKDILGALLLALTLATLVLFSPDLLGDPDNYTPANPLSTPPHIKPEWYFLFAYAILRSIPNKLGGVLALIFSILILAIIPLLHTSKQRGMMFRPLSQCLFWLLVADLLTLTWIGGQPVEHPFIIIGQLASILYFTILLVLMPIAGIIENNLLKW\n",
      "379\n",
      "Ursus thibetanus\n",
      "MTNIRKTHPLAKIINNSLIDLPAPSNISAWWNFGSLLGMCLILQILTGLFLAMHYTSDATTAFSSVAHICRDVHYGWIIRYMHANGASMFFICLFMHVGRGLYYGSYLLSETWNIGIILLFTVMATAFMGYVLPWGQMSFWGATVITNLLSAIPYIGTDLVEWIWGGFSVDKATLTRFFAFHFILPFIILALAAVHLLFLHETGSNNPSGIPSDSDKIPFHPYYTIKDALGALLLILALATLVLFSPDLLGDPDNYTPANPLSTPPHIKPEWYFLFAYAILRSIPNKLGGVLALIFSILILAIIPLLHTSKQRGMMFRPLSQCLFWLLVADLLTLTWIGGQPVEHPFIIIGQLASILYFTILLVLMPIAGIIENNLSKW\n",
      "379\n",
      "Melursus ursinus\n",
      "MTNIRKTHPLAKIINNSLIDLPAPSNISAWWNFGSLLGVCLILQILTGLFLAMHYTSDTTTAFSSVTHICRDVHYGWIIRYMHANGASMFFICLFMHVGRGLYYGSYLFSETWNTGIILLFTVMATAFMGYVLPWGQMSFWGATVITNLLSAIPYIGADLVEWIWGGFSVDKATLTRFFAFHFIFPFIILALVMVHLLFLHETGSNNPSGIPSNSDKIPFHPYYTIKDIMGALLLILALATLVLFSPDLLGDPDNYTPANPLSTPPHIKPEWYFLFAYAILRSIPNKLGGVLALIFSILILAIIPLLHTSKQRGMMFRPLSQCLFWLLVADLLTLTWIGGQPVEYPFITIGQLASILYFMILLVLMPIAGIIENNLSKW\n",
      "379\n",
      "Ursus americanus\n",
      "MTNIRKTHPLAKIINNSLIDLPTPSNISAWWNFGSLLGVCLVLQILTGLFLAMHYTSDTTTAFSSITHICRDVHYGWIIRYMHANGASMFFICLFMHVGRGLYYGSYLLSETWNIGIILLFTVMATAFMGYVLPWGQMSFWGATVITNLLSAIPYIGTDLVEWIWGGFSVNKATLTRFFAFHFILPFIILTLAAVHLLFLHETGSNNPSGIPSDSDKIPFHPYYTIKDALGALLFILALATLVLFSPDLLGDPDNYTPANPLSTPPHIKPEWYFLFAYAILRSIPNKLGGVLALIFSILILAIIPLLHTSKQRGMMFRPLSQCLFWLLVADLLTLTWIGGQPVEHPFIIIGQLASILYFTILLVLMPIAGIIENNLSKW\n",
      "379\n",
      "Helarctos malayanus\n",
      "MTNIRKTHPLAKIINNSLIDLPAPSNISAWWNFGSLLGVCLILQIMTGLFLAMHYTSDTTTAFSSITHICRDVHYGWIIRYMHANGASMFFICLFMHVGRGLYYGSYLFSETWNIGIILLFTVMATAFMGYVLPWGQMSFWGATVITNLLSAIPYIGTDLVEWVWGGFSVDKATLTRFFAFHFILPFIILALTAVHLLFLHETGSNNPSGIPSDSDKIPFHPYYTIKDILGALLLTLALTTLVLFSPDLLGDPDNYIPANPLSTPPHIKPEWYFLFAYAILRSIPNKLGGVLALVFSILILAIIPLLHTSKQRGMMFRPLSQCLFWLLVADLLTLTWIGGQPVEHPFTIIGQLASILYFMIFLVFMPIAGIIENNLSKW\n",
      "379\n",
      "Ailuropoda melanoleuca\n",
      "MINIRKTHPLVKIINNSFIDLPTPSNISTWWNFGSLLGVCLILQILTGLFLAMHYTSDTATAFSSVAHICRDVNYGWFIRYMHANGASMFFICLFMHVGRGLYYGSYLFPETWNIGIILLLTIMATAFMGYVLPWGQMSFWGATVITNLLSAIPYIGTNLVEWIWGGFSVDKATLTRFFAFHFILPFIISALAMVHLLFLHETGSNNPSGIPSDPDKIPFYPYHTIKDILGVLFLVLALMTLALFSPDLLGDPDNYTPANPLSTPPHIKPEWYFLFAYAILRSIPNKLGGVLALIFSILILTIIPLLHTSKQRSMMFRPLSQCLFWLLVADLLTLTWIGGQPVEHPFIIIGQLASILYFTILLVLMPITSIIENSLSKW\n",
      "379\n",
      "Tremarctos ornatus\n",
      "MTNIRKTHPLAKIINSSFIDLPTPSNISAWWNFGSLLGVCLILHILTGLFLAMHYTADTTTAFSSVAHICRDVNYGWVIRYMHANGASMFFICLFMHVGRGLYYGSYLFSETWNIGIILLLTIMATAFMGYVLPWGQMSFWGATVITNLLSAIPYIGTDLVEWIWGGFSVDKATLTRFFAFHFILPFIILALAMVHLLFLHETGSNNPSGISSNSDKIPFHPYYTIKDILGVLLLLLALVTLVLFSPDLLGDPDNYTPANPVSTPLHIKPEWYFLFAYAILRSIPNKLGGVLALIFSILILAIIPLLHTSKQRGMMFRPLSQCLFWLLAADLLTLTWIGGQPVEHPLVIIGQLASILYFTILLVLMPIAGIIENNLSKW\n",
      "379\n",
      "Ursus maritimus\n",
      "MTNIRKTHPLAKIINNSFIDLPTPSNISAWWNFGSLLGVCLILQILTGLFLAMHYTSDTTTAFSSVTHICRDVHYGWVIRYVHANGASMFFICLFMHVGRGLYYGSYLFSETWNIGIILLFTVMATAFMGYVLPWGQMSFWGATVITNLLSAIPYIGTDLVEWIWGGFSVDKATLTRFFAFHFILPFIILALAAVHLLFLHETGSNNPSGIPSDSDKIPFHPYYTIKDILGALLLTLALATLVLFSPDLLGDPDNYIPANPLSTPPHIKPEWYFLFAYAILRSIPNKLGGVLALIFSILILALIPLLHTSKQRGMMFRPLSQCLFWLLVADLLTLTWIGGQPVEHPFIIIGQLASILYFTILLVLMPIAGIIENNLLKW\n",
      "379\n"
     ]
    }
   ],
   "source": [
    "def counting_type_reference(aa_seq, aa_ref): #we create a new function called counting_type_reference\n",
    "    #references to each aminoacid type\n",
    "    charged = ['R','K','D','E'] \n",
    "    polar = ['Q','N','H','S','T','Y','C','M','W']\n",
    "    hydrophobic = ['A','I','L','F','V','P','G']\n",
    "    #counters\n",
    "    charged_count=0\n",
    "    polar_count=0\n",
    "    hydrophobic_count=0\n",
    "    no_matches_count=0\n",
    "    i=0\n",
    "    #iterate over each aminoacid in the sequence of interest\n",
    "    for aa in str(aa_seq):  \n",
    "        #check if the aminoacid in the sequence of interest and in the reference belong to each group, increasing the respective counter\n",
    "        if aa in charged and aa_ref[i] in charged:\n",
    "            charged_count += 1\n",
    "        elif aa in polar and aa_ref[i] in polar:\n",
    "            polar_count += 1\n",
    "        elif aa in hydrophobic and aa_ref[i] in hydrophobic:\n",
    "            hydrophobic_count += 1\n",
    "        else:\n",
    "            no_matches_count +=1  \n",
    "        i+=1\n",
    "    #we store the results in a vector\n",
    "    result = [charged_count, polar_count, hydrophobic_count, no_matches_count]\n",
    "    return result\n",
    "#copy the dataframe to avoid modifying the original data\n",
    "bear_df_copy= bear_df.copy()\n",
    "#iteration over the dictionary \n",
    "for key, value in cytb_seqs.items():\n",
    "    aa_ref = str(my_translate_function(cytb_seqs['Ursus americanus']))\n",
    "    aa_seq = my_translate_function(value)\n",
    "    counting_reference = counting_type_reference(aa_seq, aa_ref)\n",
    "    #addition of each result to as new column in the dataframe\n",
    "    bear_df_copy.loc[bear_df.species==key, 'charged_ref'] = counting_reference[0]\n",
    "    bear_df_copy.loc[bear_df.species==key, 'polar_ref'] = counting_reference[1]\n",
    "    bear_df_copy.loc[bear_df.species==key, 'hydrophobic_ref'] = counting_reference[2]\n",
    "    bear_df_copy.loc[bear_df.species==key, 'no_matches_ref'] = counting_reference[3]\n",
    "    #printing the species name, the aminoacid sequence and the size of the protein\n",
    "    print(key)\n",
    "    print(aa_seq)\n",
    "    print(len(aa_seq))"
   ]
  },
  {
   "cell_type": "markdown",
   "metadata": {},
   "source": [
    "We can print the dataframe to see the new added columns"
   ]
  },
  {
   "cell_type": "code",
   "execution_count": 44,
   "metadata": {
    "collapsed": false
   },
   "outputs": [
    {
     "name": "stdout",
     "output_type": "stream",
     "text": [
      "                  species     mass   charged     polar  hydrophobic  \\\n",
      "0          Ursus spelaeus  550.800  0.092348  0.329815     0.577836   \n",
      "1            Ursus arctos  203.500  0.092348  0.324538     0.583113   \n",
      "2        Ursus thibetanus   99.714  0.092348  0.327177     0.580475   \n",
      "3        Melursus ursinus  100.030  0.089710  0.340369     0.569921   \n",
      "4        Ursus americanus  110.560  0.089710  0.337731     0.572559   \n",
      "5     Helarctos malayanus   47.020  0.092348  0.340369     0.567282   \n",
      "6  Ailuropoda melanoleuca  118.200  0.089710  0.343008     0.567282   \n",
      "7      Tremarctos ornatus  140.700  0.089710  0.335092     0.575198   \n",
      "8         Ursus maritimus  425.100  0.092348  0.327177     0.580475   \n",
      "\n",
      "   charged_ref  polar_ref  hydrophobic_ref  no_matches_ref  \n",
      "0         34.0      123.0            215.0             7.0  \n",
      "1         34.0      122.0            216.0             7.0  \n",
      "2         34.0      123.0            216.0             6.0  \n",
      "3         33.0      124.0            213.0             9.0  \n",
      "4         34.0      128.0            217.0             0.0  \n",
      "5         34.0      124.0            212.0             9.0  \n",
      "6         33.0      121.0            209.0            16.0  \n",
      "7         33.0      124.0            215.0             7.0  \n",
      "8         34.0      123.0            216.0             6.0  \n"
     ]
    }
   ],
   "source": [
    "print(bear_df_copy)"
   ]
  },
  {
   "cell_type": "markdown",
   "metadata": {},
   "source": [
    "We can plot each new category, but for just give an example we will plot the no matches, to identify the difference in the comparisons "
   ]
  },
  {
   "cell_type": "code",
   "execution_count": 45,
   "metadata": {
    "collapsed": false
   },
   "outputs": [
    {
     "data": {
      "text/plain": [
       "[<matplotlib.text.Text at 0xc29af98>,\n",
       " <matplotlib.text.Text at 0xc2a23c8>,\n",
       " <matplotlib.text.Text at 0xc31e6d8>,\n",
       " <matplotlib.text.Text at 0xc3231d0>,\n",
       " <matplotlib.text.Text at 0xc323c88>,\n",
       " <matplotlib.text.Text at 0xc329780>,\n",
       " <matplotlib.text.Text at 0xc280d30>,\n",
       " <matplotlib.text.Text at 0xc266e48>,\n",
       " <matplotlib.text.Text at 0xc32f4a8>]"
      ]
     },
     "execution_count": 45,
     "metadata": {},
     "output_type": "execute_result"
    },
    {
     "data": {
      "image/png": "[encoded data removed]",
      "text/plain": [
       "<matplotlib.figure.Figure at 0xc266c50>"
      ]
     },
     "metadata": {},
     "output_type": "display_data"
    }
   ],
   "source": [
    "bar_chart = sns.barplot(x = 'species', y = 'no_matches_ref', data=bear_df_copy) #we create the plot\n",
    "bar_chart.set_xticklabels(labels = bear_df.species, rotation=30, horizontalalignment='right')"
   ]
  },
  {
   "cell_type": "markdown",
   "metadata": {},
   "source": [
    "These results show that the biggest difference between the reference and the other species is with *A. melanoleuca* with 16 mismatches. For the other species the number of mistmaches were about 8. Note that we got zero mismatches with *U americanus* because that was the reference specie."
   ]
  },
  {
   "cell_type": "code",
   "execution_count": null,
   "metadata": {
    "collapsed": true
   },
   "outputs": [],
   "source": []
  }
 ],
 "metadata": {
  "kernelspec": {
   "display_name": "Python 3",
   "language": "python",
   "name": "python3"
  },
  "language_info": {
   "codemirror_mode": {
    "name": "ipython",
    "version": 3
   },
   "file_extension": ".py",
   "mimetype": "text/x-python",
   "name": "python",
   "nbconvert_exporter": "python",
   "pygments_lexer": "ipython3",
   "version": "3.6.0"
  }
 },
 "nbformat": 4,
 "nbformat_minor": 2
}
